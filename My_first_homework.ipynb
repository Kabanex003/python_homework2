{
 "cells": [
  {
   "cell_type": "markdown",
   "id": "2a5613f4-36bc-40e2-9dd2-76fdae03925a",
   "metadata": {},
   "source": [
    "นายฐิติพงศ์ อิงสันเทียะ\n",
    "\n",
    "เลขที่ 6712732104"
   ]
  },
  {
   "cell_type": "code",
   "execution_count": 1,
   "id": "f3a97e1b-00d1-4b13-a835-6fac912ab88e",
   "metadata": {},
   "outputs": [
    {
     "name": "stdout",
     "output_type": "stream",
     "text": [
      "Hello, world\n"
     ]
    }
   ],
   "source": [
    "print(\"Hello, world\")"
   ]
  },
  {
   "cell_type": "code",
   "execution_count": null,
   "id": "788fb611-780b-4528-9016-b34b3618e25a",
   "metadata": {},
   "outputs": [],
   "source": []
  }
 ],
 "metadata": {
  "kernelspec": {
   "display_name": "Python 3 (ipykernel)",
   "language": "python",
   "name": "python3"
  },
  "language_info": {
   "codemirror_mode": {
    "name": "ipython",
    "version": 3
   },
   "file_extension": ".py",
   "mimetype": "text/x-python",
   "name": "python",
   "nbconvert_exporter": "python",
   "pygments_lexer": "ipython3",
   "version": "3.13.0"
  }
 },
 "nbformat": 4,
 "nbformat_minor": 5
}
