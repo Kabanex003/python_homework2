{
 "cells": [
  {
   "cell_type": "code",
   "execution_count": 8,
   "id": "e2d2c141-f0b2-408b-9645-9e2abd75ccc0",
   "metadata": {},
   "outputs": [
    {
     "name": "stdin",
     "output_type": "stream",
     "text": [
      "ป้อนระยะทางที่เจ้ากบกระโดด (X):  5\n",
      "กรุณาป้อนระยะห่าง (Y):  10\n"
     ]
    },
    {
     "name": "stdout",
     "output_type": "stream",
     "text": [
      "กบน้อยต้องกระโดดอย่างน้อย 2 ครั้ง จึงจะไปถึงจุดหมายพอดี\n"
     ]
    }
   ],
   "source": [
    "import math\n",
    "\n",
    "X = int(input(\"ป้อนระยะทางที่เจ้ากบกระโดด (X): \"))\n",
    "Y = int(input(\"กรุณาป้อนระยะห่าง (Y): \"))\n",
    "\n",
    "jumps = math.ceil(Y / X)\n",
    "\n",
    "print(f\"กบน้อยต้องกระโดดอย่างน้อย {jumps} ครั้ง จึงจะไปถึงจุดหมายพอดี\")\n"
   ]
  },
  {
   "cell_type": "code",
   "execution_count": null,
   "id": "4e64d5a2-ffd7-4a8d-b1e8-d87cfcd05d52",
   "metadata": {},
   "outputs": [],
   "source": []
  }
 ],
 "metadata": {
  "kernelspec": {
   "display_name": "Python 3 (ipykernel)",
   "language": "python",
   "name": "python3"
  },
  "language_info": {
   "codemirror_mode": {
    "name": "ipython",
    "version": 3
   },
   "file_extension": ".py",
   "mimetype": "text/x-python",
   "name": "python",
   "nbconvert_exporter": "python",
   "pygments_lexer": "ipython3",
   "version": "3.13.0"
  }
 },
 "nbformat": 4,
 "nbformat_minor": 5
}
